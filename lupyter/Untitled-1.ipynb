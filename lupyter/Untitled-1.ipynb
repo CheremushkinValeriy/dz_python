{
 "cells": [
  {
   "cell_type": "code",
   "execution_count": 1,
   "metadata": {},
   "outputs": [
    {
     "ename": "ValueError",
     "evalue": "diff requires input that is at least one dimensional",
     "output_type": "error",
     "traceback": [
      "\u001b[1;31m---------------------------------------------------------------------------\u001b[0m",
      "\u001b[1;31mValueError\u001b[0m                                Traceback (most recent call last)",
      "Cell \u001b[1;32mIn[1], line 9\u001b[0m\n\u001b[0;32m      6\u001b[0m x \u001b[39m=\u001b[39m symbols(\u001b[39m'\u001b[39m\u001b[39mx\u001b[39m\u001b[39m'\u001b[39m)\n\u001b[0;32m      7\u001b[0m fx \u001b[39m=\u001b[39m \u001b[39m-\u001b[39m\u001b[39m12\u001b[39m\u001b[39m*\u001b[39mx\u001b[39m*\u001b[39m\u001b[39m*\u001b[39m\u001b[39m4\u001b[39m \u001b[39m-\u001b[39m \u001b[39m18\u001b[39m\u001b[39m*\u001b[39mx\u001b[39m*\u001b[39m\u001b[39m*\u001b[39m\u001b[39m3\u001b[39m \u001b[39m+\u001b[39m \u001b[39m5\u001b[39m\u001b[39m*\u001b[39mx\u001b[39m*\u001b[39m\u001b[39m*\u001b[39m\u001b[39m2\u001b[39m \u001b[39m+\u001b[39m \u001b[39m10\u001b[39m\u001b[39m*\u001b[39mx \u001b[39m-\u001b[39m \u001b[39m30\u001b[39m\n\u001b[1;32m----> 9\u001b[0m pr \u001b[39m=\u001b[39m diff(fx)\n\u001b[0;32m     10\u001b[0m \u001b[39mprint\u001b[39m(pr)\n\u001b[0;32m     12\u001b[0m \u001b[39m# Определить корни \u001b[39;00m\n",
      "File \u001b[1;32m<__array_function__ internals>:200\u001b[0m, in \u001b[0;36mdiff\u001b[1;34m(*args, **kwargs)\u001b[0m\n",
      "File \u001b[1;32m~\\AppData\\Local\\Packages\\PythonSoftwareFoundation.Python.3.10_qbz5n2kfra8p0\\LocalCache\\local-packages\\Python310\\site-packages\\numpy\\lib\\function_base.py:1414\u001b[0m, in \u001b[0;36mdiff\u001b[1;34m(a, n, axis, prepend, append)\u001b[0m\n\u001b[0;32m   1412\u001b[0m nd \u001b[39m=\u001b[39m a\u001b[39m.\u001b[39mndim\n\u001b[0;32m   1413\u001b[0m \u001b[39mif\u001b[39;00m nd \u001b[39m==\u001b[39m \u001b[39m0\u001b[39m:\n\u001b[1;32m-> 1414\u001b[0m     \u001b[39mraise\u001b[39;00m \u001b[39mValueError\u001b[39;00m(\u001b[39m\"\u001b[39m\u001b[39mdiff requires input that is at least one dimensional\u001b[39m\u001b[39m\"\u001b[39m)\n\u001b[0;32m   1415\u001b[0m axis \u001b[39m=\u001b[39m normalize_axis_index(axis, nd)\n\u001b[0;32m   1417\u001b[0m combined \u001b[39m=\u001b[39m []\n",
      "\u001b[1;31mValueError\u001b[0m: diff requires input that is at least one dimensional"
     ]
    }
   ],
   "source": [
    "import math\n",
    "from sympy import *\n",
    "from numpy import *\n",
    "from sympy.plotting import plot\n",
    "\n",
    "x = symbols('x')\n",
    "fx = -12*x**4 - 18*x**3 + 5*x**2 + 10*x - 30\n",
    "\n",
    "pr = diff(fx)\n",
    "print(pr)\n",
    "\n",
    "# Определить корни \n",
    "print(solve(fx))\n",
    "\n",
    "# Найти интервалы, на которых функция возрастает\n",
    "solve(diff(fx) > 0)\n",
    "\n",
    "# Найти интервалы, на которых функция убывает\n",
    "solve(diff(fx) < 0)\n",
    "\n",
    "# Построить график  \n",
    "solve(plot(fx))\n",
    "\n",
    "# Вычислить вершину\n",
    "apex = solve(diff(fx))[0]\n",
    "print(apex)\n",
    "\n",
    "# Определить промежутки, на котором f > 0\n",
    "solve(fx > 0)\n",
    "\n",
    "# Определить промежутки, на котором f < 0\n",
    "solve(fx < 0)\n",
    "\n",
    "\n",
    "\n",
    "\n"
   ]
  }
 ],
 "metadata": {
  "kernelspec": {
   "display_name": "Python 3",
   "language": "python",
   "name": "python3"
  },
  "language_info": {
   "codemirror_mode": {
    "name": "ipython",
    "version": 3
   },
   "file_extension": ".py",
   "mimetype": "text/x-python",
   "name": "python",
   "nbconvert_exporter": "python",
   "pygments_lexer": "ipython3",
   "version": "3.10.9"
  },
  "orig_nbformat": 4,
  "vscode": {
   "interpreter": {
    "hash": "a801077450c1e1323eb0c20fcdf4618758dc6ea12028c39d10d8ff27f9d7071f"
   }
  }
 },
 "nbformat": 4,
 "nbformat_minor": 2
}
