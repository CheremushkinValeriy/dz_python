{
 "cells": [
  {
   "cell_type": "code",
   "execution_count": null,
   "metadata": {},
   "outputs": [],
   "source": [
    "import math\n",
    "from sympy import *\n",
    "from numpy import *\n",
    "from sympy.plotting import plot\n",
    "\n",
    "x = symbols('x')\n",
    "fx = -12*x**4 - 18*x**3 + 5*x**2 + 10*x - 30\n",
    "\n",
    "pr = diff(fx)\n",
    "print(pr)\n",
    "\n",
    "# Определить корни \n",
    "print(solve(fx))\n",
    "\n",
    "# Найти интервалы, на которых функция возрастает\n",
    "solve(diff(fx) > 0)\n",
    "\n",
    "# Найти интервалы, на которых функция убывает\n",
    "solve(diff(fx) < 0)\n",
    "\n",
    "# Построить график  \n",
    "solve(plot(fx))\n",
    "\n",
    "# Вычислить вершину\n",
    "apex = solve(diff(fx))[0]\n",
    "print(apex)\n",
    "\n",
    "# Определить промежутки, на котором f > 0\n",
    "solve(fx > 0)\n",
    "\n",
    "# Определить промежутки, на котором f < 0\n",
    "solve(fx < 0)\n",
    "\n",
    "\n",
    "\n",
    "\n"
   ]
  }
 ],
 "metadata": {
  "kernelspec": {
   "display_name": "Python 3",
   "language": "python",
   "name": "python3"
  },
  "language_info": {
   "codemirror_mode": {
    "name": "ipython",
    "version": 3
   },
   "file_extension": ".py",
   "mimetype": "text/x-python",
   "name": "python",
   "nbconvert_exporter": "python",
   "pygments_lexer": "ipython3",
   "version": "3.10.9"
  },
  "orig_nbformat": 4,
  "vscode": {
   "interpreter": {
    "hash": "a801077450c1e1323eb0c20fcdf4618758dc6ea12028c39d10d8ff27f9d7071f"
   }
  }
 },
 "nbformat": 4,
 "nbformat_minor": 2
}
