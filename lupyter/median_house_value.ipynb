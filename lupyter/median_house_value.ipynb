{
 "cells": [
  {
   "cell_type": "code",
   "execution_count": null,
   "metadata": {},
   "outputs": [],
   "source": [
    "# Работать с файлом california_housing_train.csv, который находится в папке sample_data. \n",
    "import pandas as pd\n",
    "df = pd.read_csv('C:/Users/Валерий/california_housing_train.csv')\n",
    "print(df)\n",
    "\n",
    "# Определить среднюю стоимость дома, где кол-во людей от 0 до 500 (population)\n",
    "print(df[df['population'] <= 500]['median_house_value '].mean())\n",
    "\n",
    "\n",
    "\n",
    "\n"
   ]
  }
 ],
 "metadata": {
  "kernelspec": {
   "display_name": "Python 3",
   "language": "python",
   "name": "python3"
  },
  "language_info": {
   "codemirror_mode": {
    "name": "ipython",
    "version": 3
   },
   "file_extension": ".py",
   "mimetype": "text/x-python",
   "name": "python",
   "nbconvert_exporter": "python",
   "pygments_lexer": "ipython3",
   "version": "3.10.9"
  },
  "orig_nbformat": 4,
  "vscode": {
   "interpreter": {
    "hash": "a801077450c1e1323eb0c20fcdf4618758dc6ea12028c39d10d8ff27f9d7071f"
   }
  }
 },
 "nbformat": 4,
 "nbformat_minor": 2
}
