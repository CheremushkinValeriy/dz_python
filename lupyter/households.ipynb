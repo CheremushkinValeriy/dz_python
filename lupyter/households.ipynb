{
 "cells": [
  {
   "cell_type": "code",
   "execution_count": null,
   "metadata": {},
   "outputs": [],
   "source": [
    "# Работать с файлом california_housing_train.csv, который находится в папке sample_data. \n",
    "import pandas as pd\n",
    "df = pd.read_csv('C:/Users/Валерий/california_housing_train.csv')\n",
    "print(df)\n",
    "\n",
    "# Узнать какая максимальная households в зоне минимального значения population\n",
    "print(df[df['population'].min()]['households'].max())"
   ]
  }
 ],
 "metadata": {
  "kernelspec": {
   "display_name": "Python 3",
   "language": "python",
   "name": "python3"
  },
  "language_info": {
   "name": "python",
   "version": "3.10.9"
  },
  "orig_nbformat": 4,
  "vscode": {
   "interpreter": {
    "hash": "a801077450c1e1323eb0c20fcdf4618758dc6ea12028c39d10d8ff27f9d7071f"
   }
  }
 },
 "nbformat": 4,
 "nbformat_minor": 2
}
